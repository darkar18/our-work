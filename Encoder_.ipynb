{
  "cells": [
    {
      "cell_type": "markdown",
      "metadata": {
        "id": "view-in-github",
        "colab_type": "text"
      },
      "source": [
        "<a href=\"https://colab.research.google.com/github/darkar18/style-interface/blob/main/Encoder_.ipynb\" target=\"_parent\"><img src=\"https://colab.research.google.com/assets/colab-badge.svg\" alt=\"Open In Colab\"/></a>"
      ]
    },
    {
      "cell_type": "code",
      "execution_count": null,
      "metadata": {
        "id": "3j5gWyJ2Jmel"
      },
      "outputs": [],
      "source": [
        "import numpy as np\n",
        "import matplotlib.pyplot as plt\n",
        "import seaborn as sn\n",
        "import torch\n",
        "import torch.nn as nn\n",
        "import torch.nn.functional as F\n",
        "import tensorflow as tf\n",
        "import pandas as pd\n",
        "import torch\n",
        "import torch.nn as nn\n",
        "from sklearn.decomposition import PCA"
      ]
    },
    {
      "cell_type": "code",
      "execution_count": null,
      "metadata": {
        "id": "a17xX4cgEXRS"
      },
      "outputs": [],
      "source": [
        "!pip install transformers"
      ]
    },
    {
      "cell_type": "code",
      "source": [
        "!pip install torch"
      ],
      "metadata": {
        "id": "XNSM1iEC1Avi"
      },
      "execution_count": null,
      "outputs": []
    },
    {
      "cell_type": "code",
      "execution_count": null,
      "metadata": {
        "id": "n2z7tvE4EaQR"
      },
      "outputs": [],
      "source": [
        "import transformers\n",
        "\n",
        "# Load pre-trained BERT model\n",
        "model = transformers.BertModel.from_pretrained('bert-base-uncased')"
      ]
    },
    {
      "cell_type": "code",
      "execution_count": null,
      "metadata": {
        "id": "WjXAUnKoRKkQ"
      },
      "outputs": [],
      "source": [
        "from transformers import BertTokenizer\n",
        "\n",
        "# Load the BERT tokenizer\n",
        "tokenizer = BertTokenizer.from_pretrained('bert-base-uncased')"
      ]
    },
    {
      "cell_type": "code",
      "execution_count": null,
      "metadata": {
        "id": "eOuqSuSv9cl8"
      },
      "outputs": [],
      "source": [
        "from google.colab import drive\n",
        "drive.mount('/content/drive')"
      ]
    },
    {
      "cell_type": "code",
      "execution_count": null,
      "metadata": {
        "id": "xWXbTKK0pBjE"
      },
      "outputs": [],
      "source": [
        "from zipfile import ZipFile"
      ]
    },
    {
      "cell_type": "code",
      "execution_count": null,
      "metadata": {
        "id": "GO2p-kOjRjz4"
      },
      "outputs": [],
      "source": [
        "!unzip /content/drive/MyDrive/dataset/archive.zip"
      ]
    },
    {
      "cell_type": "code",
      "execution_count": null,
      "metadata": {
        "id": "oTVChqzTTfMQ"
      },
      "outputs": [],
      "source": [
        "csvfile = pd.read_csv(\"/content/list_attr_celeba.csv\")\n",
        "csvfile3= pd.read_csv(\"/content/list_landmarks_align_celeba.csv\")"
      ]
    },
    {
      "cell_type": "code",
      "execution_count": null,
      "metadata": {
        "id": "4F6JawOjb5m1"
      },
      "outputs": [],
      "source": [
        "df=pd.DataFrame(csvfile)\n",
        "df=df.drop('image_id',axis=1)\n",
        "np_array0 = df.to_numpy()"
      ]
    },
    {
      "cell_type": "code",
      "execution_count": null,
      "metadata": {
        "id": "lKMXcZCLfSFG"
      },
      "outputs": [],
      "source": [
        "df=pd.DataFrame(csvfile3)\n",
        "df=df.drop('image_id',axis=1)\n",
        "np_array3 = df.to_numpy()"
      ]
    },
    {
      "cell_type": "code",
      "execution_count": null,
      "metadata": {
        "id": "NPyrwsmrfVz2"
      },
      "outputs": [],
      "source": [
        "latent_representations = np.concatenate((np_array0, np_array3), axis=1)"
      ]
    },
    {
      "cell_type": "code",
      "execution_count": null,
      "metadata": {
        "id": "j5t-ZbZXhyec"
      },
      "outputs": [],
      "source": [
        "a = ['5_o_Clock_Shadow',\n",
        "'Arched Eyebrows',\n",
        "'Attractive',\n",
        "'Bags Under Eyes', \n",
        "'Bald',\n",
        "'Bangs',\n",
        "'Big Lips',\n",
        "'Big Nose',\n",
        "'Black Hair',\n",
        "'Blond Hair',\n",
        "'Blurry',\n",
        "'Brown Hair',\n",
        "'Bushy Eyebrows',\n",
        "'Chubby',\n",
        "'Double Chin',\n",
        "'Eyeglasses',\n",
        "'Goatee',\n",
        "'Gray Hair',\n",
        "'Heavy Makeup',\n",
        "'High Cheekbones',\n",
        "'Male',\n",
        "'Mouth Slightly Open',\n",
        "'Mustache',\n",
        "'Narrow Eyes',\n",
        "'No Beard',\n",
        "'Oval Face',\n",
        "'Pale Skin',\n",
        "'Pointy Nose',\n",
        "'Receding Hairline',\n",
        "'Rosy Cheeks',\n",
        "'Sideburns',\n",
        "'Smiling',\n",
        "'Straight Hair',\n",
        "'Wavy Hair',\n",
        "'Wearing Earrings',\n",
        "'Wearing Hat',\n",
        "'Wearing Lipstick',\n",
        "'Wearing Necklace',\n",
        "'Wearing Necktie',\n",
        "'Young']\n",
        "\n",
        "c = ['lefteye is located at x-coordinate', \n",
        "'lefteye is located at y-coordinate', \n",
        "'righteye is located at x-coordinate', \n",
        "'righteye is located at yx-coordinate', \n",
        "'nose is located at x-coordinate',\n",
        "'nose is located at y-coordinate', \n",
        "'left side of mouth is located at x-coordinate', \n",
        "'left side of mouth is located at y-coordinate', \n",
        "'right side of mouth is located at x-coordinate', \n",
        "'right side of mouth is located at y-coordinate']\n",
        "\n",
        "b = ['Clean-shaven',\n",
        "'Straight Eyebrows',\n",
        "'Unattractive',\n",
        "'Clear Eyes',\n",
        "'Hairy',\n",
        "'No Bangs',\n",
        "'Small Lips',\n",
        "'Small Nose',\n",
        "'Blond Hair',\n",
        "'Black Hair',\n",
        "'Clear',\n",
        "'Blonde Hair',\n",
        "'Thin Eyebrows',\n",
        "'Skinny',\n",
        "'No Double Chin',\n",
        "'No Glasses',\n",
        "'Without a Goatee',\n",
        "'Colored Hair',\n",
        "'Natural Look',\n",
        "'Low Cheekbones',\n",
        "'Female',\n",
        "'Mouth Closed',\n",
        "'No Mustache',\n",
        "'Wide Eyes',\n",
        "'Beard',\n",
        "'Square Face',\n",
        "'Tanned Skin',\n",
        "'Rounded Nose',\n",
        "'Full Hairline',\n",
        "'Pale Cheeks',\n",
        "'No Sideburns',\n",
        "'Frowning',\n",
        "'Curly Hair',\n",
        "'Straight Hair',\n",
        "'Not Wearing Earrings',\n",
        "'Not Wearing Hat',\n",
        "'Not Wearing Lipstick',\n",
        "'Not Wearing Necklace',\n",
        "'Not Wearing Necktie',\n",
        "'Old'\n",
        "]"
      ]
    },
    {
      "cell_type": "code",
      "execution_count": null,
      "metadata": {
        "id": "fr5qV4M0Amxm"
      },
      "outputs": [],
      "source": [
        "z=[]"
      ]
    },
    {
      "cell_type": "code",
      "execution_count": null,
      "metadata": {
        "id": "yYEmM0KM6Bii"
      },
      "outputs": [],
      "source": [
        "for i in range(202599):\n",
        "  st=''\n",
        "  for j in range(40):\n",
        "      if(np_array0[i][j]==1):\n",
        "          st = st+\" \"+a[j]\n",
        "      else:\n",
        "          st = st+\" \"+b[j]\n",
        "      st = st.lower()  \n",
        "  for j in range(10):\n",
        "      st = st + \" \"+ c[j] + \" \" + str(np_array3[i][j])\n",
        "\n",
        "  # Tokenize the input text\n",
        "  input_ids = tokenizer.encode(st, return_tensors='pt')\n",
        "  # Pass the input through the model\n",
        "  with torch.no_grad():\n",
        "      output = model(input_ids)\n",
        "      last_hidden_state = output[0]  # get the last hidden state\n",
        "  pca = PCA(n_components=2)\n",
        "  reduced_vectors = pca.fit_transform(last_hidden_state[0].numpy())      \n",
        "  z.append(reduced_vectors)"
      ]
    },
    {
      "cell_type": "code",
      "execution_count": null,
      "metadata": {
        "id": "7z7127yIj4I3"
      },
      "outputs": [],
      "source": [
        "d = np.array(z[0][0])\n",
        "n = z[0].shape\n",
        "m = int(''.join(map(str, n)))\n",
        "q = m//10\n",
        "for i in range(1,q):\n",
        "    f = np.array(z[0][i])\n",
        "    d = np.vstack((d,f))\n",
        "for i in range(1,202599):\n",
        "  n = z[i].shape\n",
        "  m = int(''.join(map(str, n)))\n",
        "  q = m//10\n",
        "  for j in range(q):\n",
        "    f = np.array(z[i][j])\n",
        "    d = np.vstack((d,f))"
      ]
    },
    {
      "cell_type": "code",
      "execution_count": null,
      "metadata": {
        "id": "zWN30MTgrfVO"
      },
      "outputs": [],
      "source": [
        "np.save('/content/drive/MyDrive/dataset/my_array.npy', d)"
      ]
    },
    {
      "cell_type": "code",
      "execution_count": null,
      "metadata": {
        "id": "cBZwL7OpqoKA"
      },
      "outputs": [],
      "source": [
        "np.savetxt('/content/drive/MyDrive/dataset/my_array.csv', d, delimiter=',')"
      ]
    },
    {
      "cell_type": "code",
      "execution_count": null,
      "metadata": {
        "id": "XtA29S-vrTYo"
      },
      "outputs": [],
      "source": [
        "# Load the npy file\n",
        "data = np.load('my_array.npy')\n",
        "\n",
        "# Print the data\n",
        "print(data)"
      ]
    },
    {
      "cell_type": "code",
      "execution_count": null,
      "metadata": {
        "id": "FAPejvUOrbWA"
      },
      "outputs": [],
      "source": [
        "for i in range(len(data)):\n",
        "  print(data[i])"
      ]
    }
  ],
  "metadata": {
    "accelerator": "GPU",
    "colab": {
      "provenance": [],
      "include_colab_link": true
    },
    "gpuClass": "standard",
    "kernelspec": {
      "display_name": "Python 3",
      "name": "python3"
    },
    "language_info": {
      "name": "python"
    }
  },
  "nbformat": 4,
  "nbformat_minor": 0
}